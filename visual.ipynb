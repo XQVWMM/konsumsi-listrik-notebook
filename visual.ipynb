{
 "cells": [
  {
   "cell_type": "code",
   "execution_count": 9,
   "id": "7c42d26e",
   "metadata": {},
   "outputs": [],
   "source": [
    "import leafmap\n",
    "import geopandas as gpd\n",
    "import pandas as pd\n",
    "data_final = pd.read_csv('../DATASET/Hasil_Gabungan.csv')"
   ]
  },
  {
   "cell_type": "code",
   "execution_count": null,
   "id": "c72d9e11",
   "metadata": {},
   "outputs": [],
   "source": [
    "geo_data = gpd.read_file('../DATASET/id.json')\n",
    "\n",
    "merged_data = geo_data.merge(data_final, left_on='name', right_on='Province')\n",
    "\n",
    "m = leafmap.Map(center=[-6.1751, 106.8650], zoom=5)\n",
    "\n",
    "m.add_gdf(merged_data, layer_name=\"Konsumsi Listrik Residential\")\n",
    "m.save(\"map_output.html\")\n",
    "\n",
    "\n",
    "\n"
   ]
  }
 ],
 "metadata": {
  "kernelspec": {
   "display_name": "Python 3",
   "language": "python",
   "name": "python3"
  },
  "language_info": {
   "codemirror_mode": {
    "name": "ipython",
    "version": 3
   },
   "file_extension": ".py",
   "mimetype": "text/x-python",
   "name": "python",
   "nbconvert_exporter": "python",
   "pygments_lexer": "ipython3",
   "version": "3.13.2"
  }
 },
 "nbformat": 4,
 "nbformat_minor": 5
}
